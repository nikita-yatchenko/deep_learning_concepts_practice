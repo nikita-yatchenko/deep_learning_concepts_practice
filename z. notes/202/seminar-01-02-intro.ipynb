{
 "cells": [
  {
   "cell_type": "code",
   "execution_count": 1,
   "id": "42fa50c6",
   "metadata": {},
   "outputs": [],
   "source": [
    "import torch\n",
    "from torch import nn"
   ]
  },
  {
   "cell_type": "code",
   "execution_count": 2,
   "id": "99d31685",
   "metadata": {},
   "outputs": [],
   "source": [
    "a = torch.tensor([1, 2, 3, 4])"
   ]
  },
  {
   "cell_type": "code",
   "execution_count": 3,
   "id": "3da77ab5",
   "metadata": {},
   "outputs": [],
   "source": [
    "a = torch.randn(3, 4)\n",
    "b = torch.randn(4, 5)"
   ]
  },
  {
   "cell_type": "code",
   "execution_count": 4,
   "id": "c67f8676",
   "metadata": {},
   "outputs": [
    {
     "data": {
      "text/plain": [
       "tensor([[ 1.4746, -0.4091, -1.7888,  0.9280,  1.5648],\n",
       "        [ 0.1431,  0.2642, -0.9516,  0.9481,  1.2379],\n",
       "        [ 0.4580,  1.0593,  0.1092,  1.0410,  2.1049]])"
      ]
     },
     "execution_count": 4,
     "metadata": {},
     "output_type": "execute_result"
    }
   ],
   "source": [
    "a @ b"
   ]
  },
  {
   "cell_type": "code",
   "execution_count": 5,
   "id": "e2ad3894",
   "metadata": {},
   "outputs": [
    {
     "data": {
      "text/plain": [
       "tensor([[0.3968, 0.6455, 0.1379, 0.2622],\n",
       "        [0.6594, 0.5448, 0.3830, 0.3758],\n",
       "        [0.5720, 0.4403, 0.4245, 0.1861]])"
      ]
     },
     "execution_count": 5,
     "metadata": {},
     "output_type": "execute_result"
    }
   ],
   "source": [
    "torch.sigmoid(a)"
   ]
  },
  {
   "cell_type": "code",
   "execution_count": 6,
   "id": "a07be22c",
   "metadata": {},
   "outputs": [
    {
     "data": {
      "text/plain": [
       "tensor([[0.3968, 0.6455, 0.1379, 0.2622],\n",
       "        [0.6594, 0.5448, 0.3830, 0.3758],\n",
       "        [0.5720, 0.4403, 0.4245, 0.1861]])"
      ]
     },
     "execution_count": 6,
     "metadata": {},
     "output_type": "execute_result"
    }
   ],
   "source": [
    "a.sigmoid()"
   ]
  },
  {
   "cell_type": "code",
   "execution_count": 7,
   "id": "e2c31f28",
   "metadata": {},
   "outputs": [],
   "source": [
    "a = torch.tensor([2.], requires_grad=True)\n",
    "a.grad"
   ]
  },
  {
   "cell_type": "code",
   "execution_count": 8,
   "id": "a1d2b73a",
   "metadata": {},
   "outputs": [
    {
     "data": {
      "text/plain": [
       "tensor([4.], grad_fn=<PowBackward0>)"
      ]
     },
     "execution_count": 8,
     "metadata": {},
     "output_type": "execute_result"
    }
   ],
   "source": [
    "b = a ** 2\n",
    "b"
   ]
  },
  {
   "cell_type": "code",
   "execution_count": 9,
   "id": "f832ee33",
   "metadata": {},
   "outputs": [
    {
     "data": {
      "text/plain": [
       "tensor([4.])"
      ]
     },
     "execution_count": 9,
     "metadata": {},
     "output_type": "execute_result"
    }
   ],
   "source": [
    "b.backward()\n",
    "a.grad"
   ]
  },
  {
   "cell_type": "code",
   "execution_count": 10,
   "id": "ef7ce5cc",
   "metadata": {},
   "outputs": [],
   "source": [
    "x = torch.ones((2, 3), requires_grad=True)\n",
    "y = torch.randn(2, 3, 4, requires_grad=True)"
   ]
  },
  {
   "cell_type": "code",
   "execution_count": 11,
   "id": "6846fab8",
   "metadata": {},
   "outputs": [
    {
     "data": {
      "text/plain": [
       "tensor(41.0557, grad_fn=<SumBackward0>)"
      ]
     },
     "execution_count": 11,
     "metadata": {},
     "output_type": "execute_result"
    }
   ],
   "source": [
    "l = torch.exp(y.sum(dim=-1) + x.tanh()).sum()\n",
    "l"
   ]
  },
  {
   "cell_type": "code",
   "execution_count": 12,
   "id": "491a9527",
   "metadata": {},
   "outputs": [],
   "source": [
    "l.backward()"
   ]
  },
  {
   "cell_type": "code",
   "execution_count": 13,
   "id": "106a89d1",
   "metadata": {},
   "outputs": [
    {
     "data": {
      "text/plain": [
       "(tensor([[ 1.8727,  0.2190,  1.2652],\n",
       "         [ 0.1763,  2.4383, 11.2708]]),\n",
       " tensor([[[ 4.4591,  4.4591,  4.4591,  4.4591],\n",
       "          [ 0.5215,  0.5215,  0.5215,  0.5215],\n",
       "          [ 3.0126,  3.0126,  3.0126,  3.0126]],\n",
       " \n",
       "         [[ 0.4198,  0.4198,  0.4198,  0.4198],\n",
       "          [ 5.8057,  5.8057,  5.8057,  5.8057],\n",
       "          [26.8369, 26.8369, 26.8369, 26.8369]]]))"
      ]
     },
     "execution_count": 13,
     "metadata": {},
     "output_type": "execute_result"
    }
   ],
   "source": [
    "x.grad, y.grad"
   ]
  },
  {
   "cell_type": "code",
   "execution_count": 14,
   "id": "a9fcc471",
   "metadata": {},
   "outputs": [
    {
     "data": {
      "text/plain": [
       "(tensor([[ 1.8727,  0.2190,  1.2652],\n",
       "         [ 0.1763,  2.4383, 11.2708]]),\n",
       " tensor([[[ 4.4591,  4.4591,  4.4591,  4.4591],\n",
       "          [ 0.5215,  0.5215,  0.5215,  0.5215],\n",
       "          [ 3.0126,  3.0126,  3.0126,  3.0126]],\n",
       " \n",
       "         [[ 0.4198,  0.4198,  0.4198,  0.4198],\n",
       "          [ 5.8057,  5.8057,  5.8057,  5.8057],\n",
       "          [26.8369, 26.8369, 26.8369, 26.8369]]]))"
      ]
     },
     "execution_count": 14,
     "metadata": {},
     "output_type": "execute_result"
    }
   ],
   "source": [
    "x.grad, y.grad"
   ]
  },
  {
   "cell_type": "code",
   "execution_count": 15,
   "id": "5663adf0",
   "metadata": {},
   "outputs": [
    {
     "data": {
      "text/plain": [
       "True"
      ]
     },
     "execution_count": 15,
     "metadata": {},
     "output_type": "execute_result"
    }
   ],
   "source": [
    "torch.cuda.is_available()"
   ]
  },
  {
   "cell_type": "code",
   "execution_count": 16,
   "id": "ae3e83ca",
   "metadata": {},
   "outputs": [
    {
     "data": {
      "text/plain": [
       "device(type='cuda', index=0)"
      ]
     },
     "execution_count": 16,
     "metadata": {},
     "output_type": "execute_result"
    }
   ],
   "source": [
    "device = torch.device('cuda:0' if torch.cuda.is_available() else 'cpu')\n",
    "device"
   ]
  },
  {
   "cell_type": "code",
   "execution_count": 17,
   "id": "61b5ae4b",
   "metadata": {},
   "outputs": [
    {
     "data": {
      "text/plain": [
       "tensor([[ 0.0716, -0.3740, -0.2503,  0.4442,  3.1139, -0.0558, -1.4460, -2.1192,\n",
       "          1.1876, -0.7554],\n",
       "        [-0.0108, -0.8661,  1.7226,  1.0856,  0.9680,  1.8130, -1.5620,  0.9838,\n",
       "          0.2646,  1.4790],\n",
       "        [-0.8960,  0.3625,  0.6625, -1.0884, -0.9521, -0.2778, -0.9933,  1.5637,\n",
       "         -0.0701,  1.0802],\n",
       "        [ 0.3713,  0.9427, -0.5452,  0.0922,  0.4266, -0.3982, -1.3600,  0.9173,\n",
       "         -0.3245, -1.3361],\n",
       "        [ 0.8381,  0.0219, -0.6981, -0.3210, -0.2799,  0.0757,  0.2966, -0.4153,\n",
       "          0.3650, -1.4595],\n",
       "        [ 0.7585,  0.7763,  1.4198,  0.9623,  0.6405, -1.3667,  0.1076, -0.9034,\n",
       "          0.0673, -1.1784],\n",
       "        [ 0.4780,  0.1580,  0.3376,  0.1815, -0.1374, -0.1353, -1.0250, -1.1879,\n",
       "         -0.2617,  0.9297],\n",
       "        [ 1.6130, -0.4832, -1.0527,  0.7701,  1.7472, -0.6160,  1.2562,  1.3169,\n",
       "         -0.5417,  0.3140],\n",
       "        [ 0.8508,  0.1612, -2.2705, -0.3874,  0.9655,  1.3507,  0.8805,  0.9994,\n",
       "         -0.3468,  0.8081],\n",
       "        [-0.4962, -0.4366, -0.5503,  0.9509, -1.0873, -0.8905,  1.4042,  0.1431,\n",
       "          2.3861, -0.3582]], device='cuda:0')"
      ]
     },
     "execution_count": 17,
     "metadata": {},
     "output_type": "execute_result"
    }
   ],
   "source": [
    "x = torch.randn(10, 10).to(device)\n",
    "x"
   ]
  },
  {
   "cell_type": "code",
   "execution_count": 18,
   "id": "ae960bf4",
   "metadata": {},
   "outputs": [
    {
     "data": {
      "text/plain": [
       "tensor([[-0.2527, -2.2097,  0.6330,  0.0552,  0.0685, -0.7260, -0.6027, -0.1874,\n",
       "         -1.3986,  1.9705],\n",
       "        [-1.8411,  0.8165, -1.4937,  0.5256, -0.5665, -1.1429,  1.0677,  0.2801,\n",
       "          1.3476,  0.7735],\n",
       "        [ 1.7038, -2.3010,  0.6255, -0.3035,  0.9494,  0.4596, -1.5241,  1.4855,\n",
       "         -0.3590, -1.9078],\n",
       "        [-1.8347,  0.8029, -1.3714,  2.0403, -0.2829,  0.7668, -0.2928,  0.3119,\n",
       "         -1.3467,  1.4484],\n",
       "        [-0.0986, -1.7394, -0.4984, -1.2625,  0.6307,  1.7372,  1.2049, -0.6234,\n",
       "          0.0506, -0.3565],\n",
       "        [ 0.0632,  0.8550, -0.0727, -1.1055, -0.2653, -2.2413, -0.6362,  0.5243,\n",
       "         -0.1352, -1.0445],\n",
       "        [-0.5153, -0.0984,  0.1171,  0.5257,  0.1880,  0.7930,  1.3169, -0.5027,\n",
       "         -0.3977, -0.0577],\n",
       "        [-1.8405, -0.7210,  0.9696, -0.1513,  0.1316, -1.0141, -0.1353, -0.0515,\n",
       "          0.4781, -0.3564],\n",
       "        [ 0.0439, -0.5235,  0.2856, -1.6086,  1.3924,  0.5557,  0.9981,  0.5769,\n",
       "          0.9350, -1.4066],\n",
       "        [ 1.1859, -1.4794, -1.4978, -0.2640, -1.5666,  0.6276,  0.7329, -0.5212,\n",
       "         -1.9414,  0.5199]], device='cuda:0')"
      ]
     },
     "execution_count": 18,
     "metadata": {},
     "output_type": "execute_result"
    }
   ],
   "source": [
    "x = torch.randn(10, 10).cuda()\n",
    "x"
   ]
  },
  {
   "cell_type": "code",
   "execution_count": 19,
   "id": "7611ffa0",
   "metadata": {},
   "outputs": [
    {
     "data": {
      "text/plain": [
       "tensor([[-0.0187, -2.3014,  0.5278, -0.5890, -0.5595, -0.1442, -1.5308, -0.5918,\n",
       "          1.6985,  0.6871],\n",
       "        [ 0.0969,  0.4324, -1.6067,  0.6273, -1.7813,  1.5192, -0.9357, -1.6545,\n",
       "         -0.3067,  1.8520],\n",
       "        [ 1.2025, -0.1818,  1.2680,  0.2443, -0.6851, -0.0077, -1.3303,  0.8978,\n",
       "         -0.6605, -0.1490],\n",
       "        [-0.9108,  0.9318,  0.7239, -1.2503, -1.5423, -1.0202, -0.3558,  0.4264,\n",
       "          0.7249, -1.8627],\n",
       "        [ 0.0265, -0.2326,  2.1876,  0.8577,  0.3744,  0.7966,  2.0015,  1.2363,\n",
       "         -0.7053, -0.6807],\n",
       "        [-0.1208,  0.2972, -0.4876,  0.0567,  1.8906,  0.4232, -0.7690,  0.6318,\n",
       "         -0.4045,  1.6328],\n",
       "        [-0.2317,  1.1297, -0.5216, -1.0872, -1.5889,  0.6958, -1.3442,  0.2305,\n",
       "          1.0679,  0.8752],\n",
       "        [-1.1206, -0.3869, -0.0147, -0.9428, -0.6965, -1.1537,  0.8894, -0.0169,\n",
       "         -1.1323,  0.0762],\n",
       "        [-0.0064, -0.6149, -1.8285,  0.3542, -1.3625,  0.1146, -0.1827, -0.5831,\n",
       "          1.2265,  0.4921],\n",
       "        [ 1.3052, -0.1187,  1.9330, -0.6898,  0.6128, -0.9531, -0.6729,  1.1146,\n",
       "          0.6313,  0.8749]], device='cuda:0')"
      ]
     },
     "execution_count": 19,
     "metadata": {},
     "output_type": "execute_result"
    }
   ],
   "source": [
    "x = torch.randn(10, 10, device=device)\n",
    "x"
   ]
  },
  {
   "cell_type": "code",
   "execution_count": 20,
   "id": "40291777",
   "metadata": {},
   "outputs": [
    {
     "data": {
      "text/plain": [
       "tensor([[-0.0187, -2.3014,  0.5278, -0.5890, -0.5595, -0.1442, -1.5308, -0.5918,\n",
       "          1.6985,  0.6871],\n",
       "        [ 0.0969,  0.4324, -1.6067,  0.6273, -1.7813,  1.5192, -0.9357, -1.6545,\n",
       "         -0.3067,  1.8520],\n",
       "        [ 1.2025, -0.1818,  1.2680,  0.2443, -0.6851, -0.0077, -1.3303,  0.8978,\n",
       "         -0.6605, -0.1490],\n",
       "        [-0.9108,  0.9318,  0.7239, -1.2503, -1.5423, -1.0202, -0.3558,  0.4264,\n",
       "          0.7249, -1.8627],\n",
       "        [ 0.0265, -0.2326,  2.1876,  0.8577,  0.3744,  0.7966,  2.0015,  1.2363,\n",
       "         -0.7053, -0.6807],\n",
       "        [-0.1208,  0.2972, -0.4876,  0.0567,  1.8906,  0.4232, -0.7690,  0.6318,\n",
       "         -0.4045,  1.6328],\n",
       "        [-0.2317,  1.1297, -0.5216, -1.0872, -1.5889,  0.6958, -1.3442,  0.2305,\n",
       "          1.0679,  0.8752],\n",
       "        [-1.1206, -0.3869, -0.0147, -0.9428, -0.6965, -1.1537,  0.8894, -0.0169,\n",
       "         -1.1323,  0.0762],\n",
       "        [-0.0064, -0.6149, -1.8285,  0.3542, -1.3625,  0.1146, -0.1827, -0.5831,\n",
       "          1.2265,  0.4921],\n",
       "        [ 1.3052, -0.1187,  1.9330, -0.6898,  0.6128, -0.9531, -0.6729,  1.1146,\n",
       "          0.6313,  0.8749]])"
      ]
     },
     "execution_count": 20,
     "metadata": {},
     "output_type": "execute_result"
    }
   ],
   "source": [
    "x = x.cpu()\n",
    "x"
   ]
  },
  {
   "cell_type": "code",
   "execution_count": 21,
   "id": "90248450",
   "metadata": {},
   "outputs": [],
   "source": [
    "a = torch.randn(10000, 10000)"
   ]
  },
  {
   "cell_type": "code",
   "execution_count": 23,
   "id": "c26d47c3",
   "metadata": {},
   "outputs": [],
   "source": [
    "a_python = a.tolist()"
   ]
  },
  {
   "cell_type": "code",
   "execution_count": 24,
   "id": "9a073b74",
   "metadata": {},
   "outputs": [
    {
     "name": "stdout",
     "output_type": "stream",
     "text": [
      "CPU times: user 9.02 s, sys: 10.6 ms, total: 9.03 s\n",
      "Wall time: 9.03 s\n"
     ]
    },
    {
     "data": {
      "text/plain": [
       "-5132.89042287937"
      ]
     },
     "execution_count": 24,
     "metadata": {},
     "output_type": "execute_result"
    }
   ],
   "source": [
    "%%time\n",
    "sum(a_python[i][j] for i in range(10000) for j in range(10000))"
   ]
  },
  {
   "cell_type": "code",
   "execution_count": 25,
   "id": "7fdfcd39",
   "metadata": {},
   "outputs": [],
   "source": [
    "a_numpy = a.numpy()"
   ]
  },
  {
   "cell_type": "code",
   "execution_count": 26,
   "id": "193e7b33",
   "metadata": {},
   "outputs": [
    {
     "name": "stdout",
     "output_type": "stream",
     "text": [
      "CPU times: user 54.5 ms, sys: 248 µs, total: 54.8 ms\n",
      "Wall time: 54.2 ms\n"
     ]
    },
    {
     "data": {
      "text/plain": [
       "-5132.893"
      ]
     },
     "execution_count": 26,
     "metadata": {},
     "output_type": "execute_result"
    }
   ],
   "source": [
    "%%time\n",
    "a_numpy.sum()"
   ]
  },
  {
   "cell_type": "code",
   "execution_count": 27,
   "id": "d39195fe",
   "metadata": {},
   "outputs": [
    {
     "name": "stdout",
     "output_type": "stream",
     "text": [
      "CPU times: user 102 ms, sys: 0 ns, total: 102 ms\n",
      "Wall time: 11.4 ms\n"
     ]
    },
    {
     "data": {
      "text/plain": [
       "tensor(-5132.8872)"
      ]
     },
     "execution_count": 27,
     "metadata": {},
     "output_type": "execute_result"
    }
   ],
   "source": [
    "%%time\n",
    "a.sum()"
   ]
  },
  {
   "cell_type": "code",
   "execution_count": 28,
   "id": "a942dab6",
   "metadata": {},
   "outputs": [],
   "source": [
    "a = a.to(device)"
   ]
  },
  {
   "cell_type": "code",
   "execution_count": 29,
   "id": "b63f367e",
   "metadata": {},
   "outputs": [
    {
     "name": "stdout",
     "output_type": "stream",
     "text": [
      "CPU times: user 766 µs, sys: 80 µs, total: 846 µs\n",
      "Wall time: 535 µs\n"
     ]
    },
    {
     "data": {
      "text/plain": [
       "tensor(-5132.8882, device='cuda:0')"
      ]
     },
     "execution_count": 29,
     "metadata": {},
     "output_type": "execute_result"
    }
   ],
   "source": [
    "%%time\n",
    "a.sum()"
   ]
  },
  {
   "cell_type": "code",
   "execution_count": 30,
   "id": "bf5e2c61",
   "metadata": {},
   "outputs": [],
   "source": [
    "x = torch.rand(5, 5, requires_grad=True)\n",
    "y = torch.rand(5, 5, requires_grad=False)"
   ]
  },
  {
   "cell_type": "code",
   "execution_count": 31,
   "id": "a7ecfcce",
   "metadata": {},
   "outputs": [],
   "source": [
    "l = (x * y).sum()\n",
    "l.backward()"
   ]
  },
  {
   "cell_type": "code",
   "execution_count": 32,
   "id": "da015b75",
   "metadata": {},
   "outputs": [
    {
     "data": {
      "text/plain": [
       "tensor([[0.8859, 0.4195, 0.0423, 0.9876, 0.1002],\n",
       "        [0.7737, 0.0207, 0.8493, 0.7500, 0.0889],\n",
       "        [0.8605, 0.8401, 0.0119, 0.9526, 0.2788],\n",
       "        [0.7888, 0.4173, 0.6327, 0.2729, 0.8203],\n",
       "        [0.2361, 0.4507, 0.3617, 0.1584, 0.8780]])"
      ]
     },
     "execution_count": 32,
     "metadata": {},
     "output_type": "execute_result"
    }
   ],
   "source": [
    "x.grad"
   ]
  },
  {
   "cell_type": "code",
   "execution_count": 33,
   "id": "19af3751",
   "metadata": {},
   "outputs": [],
   "source": [
    "y.grad"
   ]
  },
  {
   "cell_type": "code",
   "execution_count": 34,
   "id": "6aaedb05",
   "metadata": {},
   "outputs": [
    {
     "ename": "RuntimeError",
     "evalue": "element 0 of tensors does not require grad and does not have a grad_fn",
     "output_type": "error",
     "traceback": [
      "\u001b[0;31m---------------------------------------------------------------------------\u001b[0m",
      "\u001b[0;31mRuntimeError\u001b[0m                              Traceback (most recent call last)",
      "Input \u001b[0;32mIn [34]\u001b[0m, in \u001b[0;36m<cell line: 1>\u001b[0;34m()\u001b[0m\n\u001b[1;32m      1\u001b[0m \u001b[38;5;28;01mwith\u001b[39;00m torch\u001b[38;5;241m.\u001b[39mno_grad():\n\u001b[1;32m      2\u001b[0m     l \u001b[38;5;241m=\u001b[39m (x \u001b[38;5;241m*\u001b[39m y)\u001b[38;5;241m.\u001b[39msum()\n\u001b[0;32m----> 3\u001b[0m     \u001b[43ml\u001b[49m\u001b[38;5;241;43m.\u001b[39;49m\u001b[43mbackward\u001b[49m\u001b[43m(\u001b[49m\u001b[43m)\u001b[49m\n",
      "File \u001b[0;32m~/anaconda3/envs/huggingface/lib/python3.8/site-packages/torch/_tensor.py:396\u001b[0m, in \u001b[0;36mTensor.backward\u001b[0;34m(self, gradient, retain_graph, create_graph, inputs)\u001b[0m\n\u001b[1;32m    387\u001b[0m \u001b[38;5;28;01mif\u001b[39;00m has_torch_function_unary(\u001b[38;5;28mself\u001b[39m):\n\u001b[1;32m    388\u001b[0m     \u001b[38;5;28;01mreturn\u001b[39;00m handle_torch_function(\n\u001b[1;32m    389\u001b[0m         Tensor\u001b[38;5;241m.\u001b[39mbackward,\n\u001b[1;32m    390\u001b[0m         (\u001b[38;5;28mself\u001b[39m,),\n\u001b[0;32m   (...)\u001b[0m\n\u001b[1;32m    394\u001b[0m         create_graph\u001b[38;5;241m=\u001b[39mcreate_graph,\n\u001b[1;32m    395\u001b[0m         inputs\u001b[38;5;241m=\u001b[39minputs)\n\u001b[0;32m--> 396\u001b[0m \u001b[43mtorch\u001b[49m\u001b[38;5;241;43m.\u001b[39;49m\u001b[43mautograd\u001b[49m\u001b[38;5;241;43m.\u001b[39;49m\u001b[43mbackward\u001b[49m\u001b[43m(\u001b[49m\u001b[38;5;28;43mself\u001b[39;49m\u001b[43m,\u001b[49m\u001b[43m \u001b[49m\u001b[43mgradient\u001b[49m\u001b[43m,\u001b[49m\u001b[43m \u001b[49m\u001b[43mretain_graph\u001b[49m\u001b[43m,\u001b[49m\u001b[43m \u001b[49m\u001b[43mcreate_graph\u001b[49m\u001b[43m,\u001b[49m\u001b[43m \u001b[49m\u001b[43minputs\u001b[49m\u001b[38;5;241;43m=\u001b[39;49m\u001b[43minputs\u001b[49m\u001b[43m)\u001b[49m\n",
      "File \u001b[0;32m~/anaconda3/envs/huggingface/lib/python3.8/site-packages/torch/autograd/__init__.py:173\u001b[0m, in \u001b[0;36mbackward\u001b[0;34m(tensors, grad_tensors, retain_graph, create_graph, grad_variables, inputs)\u001b[0m\n\u001b[1;32m    168\u001b[0m     retain_graph \u001b[38;5;241m=\u001b[39m create_graph\n\u001b[1;32m    170\u001b[0m \u001b[38;5;66;03m# The reason we repeat same the comment below is that\u001b[39;00m\n\u001b[1;32m    171\u001b[0m \u001b[38;5;66;03m# some Python versions print out the first line of a multi-line function\u001b[39;00m\n\u001b[1;32m    172\u001b[0m \u001b[38;5;66;03m# calls in the traceback and some print out the last line\u001b[39;00m\n\u001b[0;32m--> 173\u001b[0m \u001b[43mVariable\u001b[49m\u001b[38;5;241;43m.\u001b[39;49m\u001b[43m_execution_engine\u001b[49m\u001b[38;5;241;43m.\u001b[39;49m\u001b[43mrun_backward\u001b[49m\u001b[43m(\u001b[49m\u001b[43m  \u001b[49m\u001b[38;5;66;43;03m# Calls into the C++ engine to run the backward pass\u001b[39;49;00m\n\u001b[1;32m    174\u001b[0m \u001b[43m    \u001b[49m\u001b[43mtensors\u001b[49m\u001b[43m,\u001b[49m\u001b[43m \u001b[49m\u001b[43mgrad_tensors_\u001b[49m\u001b[43m,\u001b[49m\u001b[43m \u001b[49m\u001b[43mretain_graph\u001b[49m\u001b[43m,\u001b[49m\u001b[43m \u001b[49m\u001b[43mcreate_graph\u001b[49m\u001b[43m,\u001b[49m\u001b[43m \u001b[49m\u001b[43minputs\u001b[49m\u001b[43m,\u001b[49m\n\u001b[1;32m    175\u001b[0m \u001b[43m    \u001b[49m\u001b[43mallow_unreachable\u001b[49m\u001b[38;5;241;43m=\u001b[39;49m\u001b[38;5;28;43;01mTrue\u001b[39;49;00m\u001b[43m,\u001b[49m\u001b[43m \u001b[49m\u001b[43maccumulate_grad\u001b[49m\u001b[38;5;241;43m=\u001b[39;49m\u001b[38;5;28;43;01mTrue\u001b[39;49;00m\u001b[43m)\u001b[49m\n",
      "\u001b[0;31mRuntimeError\u001b[0m: element 0 of tensors does not require grad and does not have a grad_fn"
     ]
    }
   ],
   "source": [
    "with torch.no_grad():\n",
    "    l = (x * y).sum()\n",
    "    l.backward()"
   ]
  },
  {
   "cell_type": "code",
   "execution_count": 35,
   "id": "c9df1d32",
   "metadata": {},
   "outputs": [
    {
     "ename": "RuntimeError",
     "evalue": "element 0 of tensors does not require grad and does not have a grad_fn",
     "output_type": "error",
     "traceback": [
      "\u001b[0;31m---------------------------------------------------------------------------\u001b[0m",
      "\u001b[0;31mRuntimeError\u001b[0m                              Traceback (most recent call last)",
      "Input \u001b[0;32mIn [35]\u001b[0m, in \u001b[0;36m<cell line: 1>\u001b[0;34m()\u001b[0m\n\u001b[1;32m      1\u001b[0m \u001b[38;5;28;01mwith\u001b[39;00m torch\u001b[38;5;241m.\u001b[39minference_mode():\n\u001b[1;32m      2\u001b[0m     l \u001b[38;5;241m=\u001b[39m (x \u001b[38;5;241m*\u001b[39m y)\u001b[38;5;241m.\u001b[39msum()\n\u001b[0;32m----> 3\u001b[0m     \u001b[43ml\u001b[49m\u001b[38;5;241;43m.\u001b[39;49m\u001b[43mbackward\u001b[49m\u001b[43m(\u001b[49m\u001b[43m)\u001b[49m\n",
      "File \u001b[0;32m~/anaconda3/envs/huggingface/lib/python3.8/site-packages/torch/_tensor.py:396\u001b[0m, in \u001b[0;36mTensor.backward\u001b[0;34m(self, gradient, retain_graph, create_graph, inputs)\u001b[0m\n\u001b[1;32m    387\u001b[0m \u001b[38;5;28;01mif\u001b[39;00m has_torch_function_unary(\u001b[38;5;28mself\u001b[39m):\n\u001b[1;32m    388\u001b[0m     \u001b[38;5;28;01mreturn\u001b[39;00m handle_torch_function(\n\u001b[1;32m    389\u001b[0m         Tensor\u001b[38;5;241m.\u001b[39mbackward,\n\u001b[1;32m    390\u001b[0m         (\u001b[38;5;28mself\u001b[39m,),\n\u001b[0;32m   (...)\u001b[0m\n\u001b[1;32m    394\u001b[0m         create_graph\u001b[38;5;241m=\u001b[39mcreate_graph,\n\u001b[1;32m    395\u001b[0m         inputs\u001b[38;5;241m=\u001b[39minputs)\n\u001b[0;32m--> 396\u001b[0m \u001b[43mtorch\u001b[49m\u001b[38;5;241;43m.\u001b[39;49m\u001b[43mautograd\u001b[49m\u001b[38;5;241;43m.\u001b[39;49m\u001b[43mbackward\u001b[49m\u001b[43m(\u001b[49m\u001b[38;5;28;43mself\u001b[39;49m\u001b[43m,\u001b[49m\u001b[43m \u001b[49m\u001b[43mgradient\u001b[49m\u001b[43m,\u001b[49m\u001b[43m \u001b[49m\u001b[43mretain_graph\u001b[49m\u001b[43m,\u001b[49m\u001b[43m \u001b[49m\u001b[43mcreate_graph\u001b[49m\u001b[43m,\u001b[49m\u001b[43m \u001b[49m\u001b[43minputs\u001b[49m\u001b[38;5;241;43m=\u001b[39;49m\u001b[43minputs\u001b[49m\u001b[43m)\u001b[49m\n",
      "File \u001b[0;32m~/anaconda3/envs/huggingface/lib/python3.8/site-packages/torch/autograd/__init__.py:173\u001b[0m, in \u001b[0;36mbackward\u001b[0;34m(tensors, grad_tensors, retain_graph, create_graph, grad_variables, inputs)\u001b[0m\n\u001b[1;32m    168\u001b[0m     retain_graph \u001b[38;5;241m=\u001b[39m create_graph\n\u001b[1;32m    170\u001b[0m \u001b[38;5;66;03m# The reason we repeat same the comment below is that\u001b[39;00m\n\u001b[1;32m    171\u001b[0m \u001b[38;5;66;03m# some Python versions print out the first line of a multi-line function\u001b[39;00m\n\u001b[1;32m    172\u001b[0m \u001b[38;5;66;03m# calls in the traceback and some print out the last line\u001b[39;00m\n\u001b[0;32m--> 173\u001b[0m \u001b[43mVariable\u001b[49m\u001b[38;5;241;43m.\u001b[39;49m\u001b[43m_execution_engine\u001b[49m\u001b[38;5;241;43m.\u001b[39;49m\u001b[43mrun_backward\u001b[49m\u001b[43m(\u001b[49m\u001b[43m  \u001b[49m\u001b[38;5;66;43;03m# Calls into the C++ engine to run the backward pass\u001b[39;49;00m\n\u001b[1;32m    174\u001b[0m \u001b[43m    \u001b[49m\u001b[43mtensors\u001b[49m\u001b[43m,\u001b[49m\u001b[43m \u001b[49m\u001b[43mgrad_tensors_\u001b[49m\u001b[43m,\u001b[49m\u001b[43m \u001b[49m\u001b[43mretain_graph\u001b[49m\u001b[43m,\u001b[49m\u001b[43m \u001b[49m\u001b[43mcreate_graph\u001b[49m\u001b[43m,\u001b[49m\u001b[43m \u001b[49m\u001b[43minputs\u001b[49m\u001b[43m,\u001b[49m\n\u001b[1;32m    175\u001b[0m \u001b[43m    \u001b[49m\u001b[43mallow_unreachable\u001b[49m\u001b[38;5;241;43m=\u001b[39;49m\u001b[38;5;28;43;01mTrue\u001b[39;49;00m\u001b[43m,\u001b[49m\u001b[43m \u001b[49m\u001b[43maccumulate_grad\u001b[49m\u001b[38;5;241;43m=\u001b[39;49m\u001b[38;5;28;43;01mTrue\u001b[39;49;00m\u001b[43m)\u001b[49m\n",
      "\u001b[0;31mRuntimeError\u001b[0m: element 0 of tensors does not require grad and does not have a grad_fn"
     ]
    }
   ],
   "source": [
    "with torch.inference_mode():\n",
    "    l = (x * y).sum()\n",
    "    l.backward()"
   ]
  },
  {
   "cell_type": "code",
   "execution_count": 36,
   "id": "8bbdcf98",
   "metadata": {},
   "outputs": [],
   "source": [
    "from torchvision.datasets import MNIST\n",
    "import torchvision.transforms as T\n",
    "from torch.utils.data import Dataset, DataLoader"
   ]
  },
  {
   "cell_type": "code",
   "execution_count": 37,
   "id": "16b3335b",
   "metadata": {},
   "outputs": [],
   "source": [
    "train_set = MNIST('.MNIST', transform=T.ToTensor(), train=True, download=True)\n",
    "test_set = MNIST('.MNIST', transform=T.ToTensor(), train=False, download=True)"
   ]
  },
  {
   "cell_type": "code",
   "execution_count": 38,
   "id": "1db8917a",
   "metadata": {},
   "outputs": [],
   "source": [
    "out = train_set[1357]"
   ]
  },
  {
   "cell_type": "code",
   "execution_count": 39,
   "id": "cac8839d",
   "metadata": {},
   "outputs": [
    {
     "data": {
      "text/plain": [
       "10"
      ]
     },
     "execution_count": 39,
     "metadata": {},
     "output_type": "execute_result"
    }
   ],
   "source": [
    "len(train_set.classes)"
   ]
  },
  {
   "cell_type": "code",
   "execution_count": 40,
   "id": "d1d988dc",
   "metadata": {},
   "outputs": [],
   "source": [
    "train_loader = DataLoader(train_set, batch_size=64, shuffle=True)\n",
    "test_loader = DataLoader(test_set, batch_size=64, shuffle=False)"
   ]
  },
  {
   "cell_type": "code",
   "execution_count": 41,
   "id": "05bc409d",
   "metadata": {},
   "outputs": [
    {
     "name": "stdout",
     "output_type": "stream",
     "text": [
      "torch.Size([64, 1, 28, 28]) torch.Size([64])\n"
     ]
    }
   ],
   "source": [
    "for images, labels in train_loader:\n",
    "    print(images.shape, labels.shape)\n",
    "    break"
   ]
  },
  {
   "cell_type": "code",
   "execution_count": 42,
   "id": "124d3c23",
   "metadata": {},
   "outputs": [],
   "source": [
    "from torch import nn\n",
    "\n",
    "class MLP(nn.Module):\n",
    "    def __init__(self, in_features, num_classes, hidden_size):\n",
    "        super().__init__()\n",
    "        self.model = nn.Sequential(\n",
    "            nn.Linear(in_features=in_features, out_features=hidden_size),\n",
    "            nn.ReLU(),\n",
    "            nn.Linear(in_features=hidden_size, out_features=hidden_size, bias=False),\n",
    "            nn.LeakyReLU(0.1),\n",
    "            nn.Linear(in_features=hidden_size, out_features=num_classes),\n",
    "            # nn.LogSoftmax(),\n",
    "        )\n",
    "\n",
    "    def forward(self, x):\n",
    "        return self.model(x)"
   ]
  },
  {
   "cell_type": "code",
   "execution_count": 46,
   "id": "a7d33a3b",
   "metadata": {},
   "outputs": [],
   "source": [
    "import seaborn as sns\n",
    "import matplotlib.pyplot as plt\n",
    "from IPython.display import clear_output\n",
    "from tqdm.notebook import tqdm\n",
    "\n",
    "\n",
    "sns.set_style('whitegrid')\n",
    "plt.rcParams.update({'font.size': 15})\n",
    "\n",
    "\n",
    "def plot_losses(train_losses, test_losses, train_accuracies, test_accuracies):\n",
    "    clear_output()\n",
    "    fig, axs = plt.subplots(1, 2, figsize=(13, 4))\n",
    "    axs[0].plot(range(1, len(train_losses) + 1), train_losses, label='train')\n",
    "    axs[0].plot(range(1, len(test_losses) + 1), test_losses, label='test')\n",
    "    axs[0].set_ylabel('loss')\n",
    "\n",
    "    axs[1].plot(range(1, len(train_accuracies) + 1), train_accuracies, label='train')\n",
    "    axs[1].plot(range(1, len(test_accuracies) + 1), test_accuracies, label='test')\n",
    "    axs[1].set_ylabel('accuracy')\n",
    "\n",
    "    for ax in axs:\n",
    "        ax.set_xlabel('epoch')\n",
    "        ax.legend()\n",
    "\n",
    "    plt.show()"
   ]
  },
  {
   "cell_type": "code",
   "execution_count": 44,
   "id": "f1a4a0f9",
   "metadata": {},
   "outputs": [],
   "source": [
    "def train():\n",
    "    train_losses, train_accuracies = [], []\n",
    "    test_losses, test_accuracies = [], []\n",
    "\n",
    "    for epoch in range(1, NUM_EPOCHS + 1):\n",
    "        train_loss, train_accuracy = 0.0, 0.0\n",
    "        model.train()\n",
    "        for images, labels in tqdm(train_loader, desc='Training'):\n",
    "            images = images.to(device)\n",
    "            labels = labels.to(device)\n",
    "\n",
    "            optimizer.zero_grad()\n",
    "            logits = model(torch.flatten(images, start_dim=1))\n",
    "            # logits: batch_size x num_classes\n",
    "            loss = criterion(logits, labels)\n",
    "            loss.backward()\n",
    "            optimizer.step()\n",
    "\n",
    "            train_loss += loss.item() * images.shape[0]\n",
    "            train_accuracy += (logits.argmax(dim=1) == labels).sum().item()\n",
    "\n",
    "        if scheduler is not None:\n",
    "            scheduler.step()\n",
    "\n",
    "        train_loss /= len(train_loader.dataset)\n",
    "        train_accuracy /= len(train_loader.dataset)\n",
    "        train_losses += [train_loss]\n",
    "        train_accuracies += [train_accuracy]\n",
    "\n",
    "        test_loss, test_accuracy = 0.0, 0.0\n",
    "        model.eval()\n",
    "        for images, labels in tqdm(test_loader, desc='Validating'):\n",
    "            images = images.to(device)\n",
    "            labels = labels.to(device)\n",
    "\n",
    "            with torch.no_grad():\n",
    "                logits = model(torch.flatten(images, start_dim=1))\n",
    "                # logits: batch_size x num_classes\n",
    "                loss = criterion(logits, labels)\n",
    "\n",
    "            test_loss += loss.item() * images.shape[0]\n",
    "            test_accuracy += (logits.argmax(dim=1) == labels).sum().item()\n",
    "\n",
    "        test_loss /= len(test_loader.dataset)\n",
    "        test_accuracy /= len(test_loader.dataset)\n",
    "        test_losses += [test_loss]\n",
    "        test_accuracies += [test_accuracy]\n",
    "        plot_losses(train_losses, test_losses, train_accuracies, test_accuracies)"
   ]
  },
  {
   "cell_type": "code",
   "execution_count": 47,
   "id": "c61c03f6",
   "metadata": {},
   "outputs": [
    {
     "data": {
      "image/png": "[encoded data removed]",
      "text/plain": [
       "<Figure size 936x288 with 2 Axes>"
      ]
     },
     "metadata": {},
     "output_type": "display_data"
    }
   ],
   "source": [
    "IMG_SIZE = 28\n",
    "NUM_CLASSES = 10\n",
    "HIDDEN_SIZE = 64\n",
    "NUM_EPOCHS = 10\n",
    "\n",
    "device = torch.device('cuda:0' if torch.cuda.is_available() else 'cpu')\n",
    "model = MLP(in_features=IMG_SIZE ** 2, num_classes=NUM_CLASSES, hidden_size=HIDDEN_SIZE).to(device)\n",
    "optimizer = torch.optim.SGD(model.parameters(), lr=0.01, momentum=0.9)\n",
    "scheduler = None\n",
    "criterion = nn.CrossEntropyLoss()  # nn.NLLLoss()\n",
    "train()"
   ]
  },
  {
   "cell_type": "code",
   "execution_count": 48,
   "id": "77e924a8",
   "metadata": {},
   "outputs": [
    {
     "data": {
      "image/png": "[encoded data removed]",
      "text/plain": [
       "<Figure size 936x288 with 2 Axes>"
      ]
     },
     "metadata": {},
     "output_type": "display_data"
    }
   ],
   "source": [
    "IMG_SIZE = 28\n",
    "NUM_CLASSES = 10\n",
    "HIDDEN_SIZE = 64\n",
    "NUM_EPOCHS = 10\n",
    "\n",
    "device = torch.device('cuda:0' if torch.cuda.is_available() else 'cpu')\n",
    "model = MLP(in_features=IMG_SIZE ** 2, num_classes=NUM_CLASSES, hidden_size=HIDDEN_SIZE).to(device)\n",
    "optimizer = torch.optim.Adam(model.parameters(), lr=1e-3)\n",
    "scheduler = None\n",
    "criterion = nn.CrossEntropyLoss()\n",
    "train()"
   ]
  },
  {
   "cell_type": "code",
   "execution_count": 49,
   "id": "14a32228",
   "metadata": {},
   "outputs": [
    {
     "data": {
      "image/png": "[encoded data removed]",
      "text/plain": [
       "<Figure size 936x288 with 2 Axes>"
      ]
     },
     "metadata": {},
     "output_type": "display_data"
    }
   ],
   "source": [
    "IMG_SIZE = 28\n",
    "NUM_CLASSES = 10\n",
    "HIDDEN_SIZE = 64\n",
    "NUM_EPOCHS = 10\n",
    "\n",
    "device = torch.device('cuda:0' if torch.cuda.is_available() else 'cpu')\n",
    "model = MLP(in_features=IMG_SIZE ** 2, num_classes=NUM_CLASSES, hidden_size=HIDDEN_SIZE).to(device)\n",
    "optimizer = torch.optim.Adam(model.parameters(), lr=1e-3, weight_decay=1e-2)\n",
    "scheduler = None\n",
    "criterion = nn.CrossEntropyLoss()\n",
    "train()"
   ]
  },
  {
   "cell_type": "code",
   "execution_count": 50,
   "id": "aef868d2",
   "metadata": {},
   "outputs": [
    {
     "data": {
      "image/png": "[encoded data removed]",
      "text/plain": [
       "<Figure size 936x288 with 2 Axes>"
      ]
     },
     "metadata": {},
     "output_type": "display_data"
    }
   ],
   "source": [
    "IMG_SIZE = 28\n",
    "NUM_CLASSES = 10\n",
    "HIDDEN_SIZE = 64\n",
    "NUM_EPOCHS = 20\n",
    "\n",
    "device = torch.device('cuda:0' if torch.cuda.is_available() else 'cpu')\n",
    "model = MLP(in_features=IMG_SIZE ** 2, num_classes=NUM_CLASSES, hidden_size=HIDDEN_SIZE).to(device)\n",
    "optimizer = torch.optim.SGD(model.parameters(), lr=1e-2, momentum=0.9)\n",
    "scheduler = torch.optim.lr_scheduler.CosineAnnealingLR(optimizer, T_max=NUM_EPOCHS)\n",
    "criterion = nn.CrossEntropyLoss()\n",
    "train()"
   ]
  },
  {
   "cell_type": "code",
   "execution_count": 51,
   "id": "a7f64054",
   "metadata": {},
   "outputs": [
    {
     "data": {
      "text/plain": [
       "tensor([[1., 1., 1., 1., 1., 1., 1., 1., 1., 1.],\n",
       "        [1., 1., 1., 1., 1., 1., 1., 1., 1., 1.],\n",
       "        [1., 1., 1., 1., 1., 1., 1., 1., 1., 1.],\n",
       "        [1., 1., 1., 1., 1., 1., 1., 1., 1., 1.],\n",
       "        [1., 1., 1., 1., 1., 1., 1., 1., 1., 1.]])"
      ]
     },
     "execution_count": 51,
     "metadata": {},
     "output_type": "execute_result"
    }
   ],
   "source": [
    "x = torch.ones(5, 10)\n",
    "x"
   ]
  },
  {
   "cell_type": "code",
   "execution_count": 52,
   "id": "bf50e14e",
   "metadata": {},
   "outputs": [
    {
     "data": {
      "text/plain": [
       "Dropout(p=0.25, inplace=False)"
      ]
     },
     "execution_count": 52,
     "metadata": {},
     "output_type": "execute_result"
    }
   ],
   "source": [
    "dropout = nn.Dropout(p=0.25)\n",
    "dropout.train()"
   ]
  },
  {
   "cell_type": "code",
   "execution_count": 53,
   "id": "b04af586",
   "metadata": {},
   "outputs": [
    {
     "data": {
      "text/plain": [
       "tensor([[1.3333, 1.3333, 1.3333, 1.3333, 1.3333, 1.3333, 0.0000, 1.3333, 1.3333,\n",
       "         0.0000],\n",
       "        [0.0000, 1.3333, 1.3333, 1.3333, 1.3333, 0.0000, 0.0000, 0.0000, 0.0000,\n",
       "         1.3333],\n",
       "        [1.3333, 0.0000, 0.0000, 1.3333, 1.3333, 1.3333, 1.3333, 1.3333, 1.3333,\n",
       "         0.0000],\n",
       "        [1.3333, 1.3333, 1.3333, 1.3333, 1.3333, 1.3333, 1.3333, 1.3333, 1.3333,\n",
       "         1.3333],\n",
       "        [1.3333, 1.3333, 1.3333, 1.3333, 1.3333, 1.3333, 1.3333, 1.3333, 1.3333,\n",
       "         1.3333]])"
      ]
     },
     "execution_count": 53,
     "metadata": {},
     "output_type": "execute_result"
    }
   ],
   "source": [
    "dropout(x)"
   ]
  },
  {
   "cell_type": "code",
   "execution_count": 54,
   "id": "4829359a",
   "metadata": {},
   "outputs": [
    {
     "data": {
      "text/plain": [
       "tensor([[1., 1., 1., 1., 1., 1., 1., 1., 1., 1.],\n",
       "        [1., 1., 1., 1., 1., 1., 1., 1., 1., 1.],\n",
       "        [1., 1., 1., 1., 1., 1., 1., 1., 1., 1.],\n",
       "        [1., 1., 1., 1., 1., 1., 1., 1., 1., 1.],\n",
       "        [1., 1., 1., 1., 1., 1., 1., 1., 1., 1.]])"
      ]
     },
     "execution_count": 54,
     "metadata": {},
     "output_type": "execute_result"
    }
   ],
   "source": [
    "dropout.eval()\n",
    "dropout(x)"
   ]
  },
  {
   "cell_type": "code",
   "execution_count": 55,
   "id": "f61b5155",
   "metadata": {},
   "outputs": [
    {
     "data": {
      "text/plain": [
       "BatchNorm1d(10, eps=1e-05, momentum=0.1, affine=False, track_running_stats=True)"
      ]
     },
     "execution_count": 55,
     "metadata": {},
     "output_type": "execute_result"
    }
   ],
   "source": [
    "batch_norm = nn.BatchNorm1d(num_features=10, affine=False)\n",
    "batch_norm.train()"
   ]
  },
  {
   "cell_type": "code",
   "execution_count": 56,
   "id": "b63a894d",
   "metadata": {},
   "outputs": [
    {
     "data": {
      "text/plain": [
       "(tensor([0., 0., 0., 0., 0., 0., 0., 0., 0., 0.]),\n",
       " tensor([1., 1., 1., 1., 1., 1., 1., 1., 1., 1.]))"
      ]
     },
     "execution_count": 56,
     "metadata": {},
     "output_type": "execute_result"
    }
   ],
   "source": [
    "batch_norm.running_mean, batch_norm.running_var"
   ]
  },
  {
   "cell_type": "code",
   "execution_count": 57,
   "id": "969da5bb",
   "metadata": {},
   "outputs": [],
   "source": [
    "x = 1 + 2 * torch.randn(256, 10)"
   ]
  },
  {
   "cell_type": "code",
   "execution_count": 58,
   "id": "2051cde6",
   "metadata": {},
   "outputs": [
    {
     "data": {
      "text/plain": [
       "(tensor([0.9947, 0.9207, 1.0915, 0.8020, 1.1773, 0.9677, 1.1214, 1.0183, 1.0333,\n",
       "         1.1140]),\n",
       " tensor([4.1838, 3.7822, 4.0503, 3.7393, 4.0392, 4.2996, 3.8906, 4.3000, 3.8719,\n",
       "         4.3875]))"
      ]
     },
     "execution_count": 58,
     "metadata": {},
     "output_type": "execute_result"
    }
   ],
   "source": [
    "x.mean(dim=0), x.var(dim=0)"
   ]
  },
  {
   "cell_type": "code",
   "execution_count": 59,
   "id": "4066cd30",
   "metadata": {},
   "outputs": [
    {
     "data": {
      "text/plain": [
       "(tensor([ 5.7742e-08, -1.8626e-09, -5.5879e-08, -1.8626e-08, -7.4506e-09,\n",
       "          3.7253e-09, -4.6566e-08,  1.1176e-08, -3.7253e-09, -1.8626e-08]),\n",
       " tensor([1.0039, 1.0039, 1.0039, 1.0039, 1.0039, 1.0039, 1.0039, 1.0039, 1.0039,\n",
       "         1.0039]))"
      ]
     },
     "execution_count": 59,
     "metadata": {},
     "output_type": "execute_result"
    }
   ],
   "source": [
    "y = batch_norm(x)\n",
    "y.mean(dim=0), y.var(dim=0)"
   ]
  },
  {
   "cell_type": "code",
   "execution_count": 60,
   "id": "b19cc5ce",
   "metadata": {},
   "outputs": [
    {
     "data": {
      "text/plain": [
       "(tensor([0.0995, 0.0921, 0.1091, 0.0802, 0.1177, 0.0968, 0.1121, 0.1018, 0.1033,\n",
       "         0.1114]),\n",
       " tensor([1.3184, 1.2782, 1.3050, 1.2739, 1.3039, 1.3300, 1.2891, 1.3300, 1.2872,\n",
       "         1.3388]))"
      ]
     },
     "execution_count": 60,
     "metadata": {},
     "output_type": "execute_result"
    }
   ],
   "source": [
    "batch_norm.running_mean, batch_norm.running_var"
   ]
  },
  {
   "cell_type": "code",
   "execution_count": 61,
   "id": "38aa4038",
   "metadata": {},
   "outputs": [
    {
     "data": {
      "text/plain": [
       "BatchNorm1d(10, eps=1e-05, momentum=0.1, affine=False, track_running_stats=True)"
      ]
     },
     "execution_count": 61,
     "metadata": {},
     "output_type": "execute_result"
    }
   ],
   "source": [
    "batch_norm = nn.BatchNorm1d(num_features=10, affine=False)\n",
    "batch_norm.eval()"
   ]
  },
  {
   "cell_type": "code",
   "execution_count": 62,
   "id": "ee0b30ab",
   "metadata": {},
   "outputs": [
    {
     "data": {
      "text/plain": [
       "(tensor([0., 0., 0., 0., 0., 0., 0., 0., 0., 0.]),\n",
       " tensor([1., 1., 1., 1., 1., 1., 1., 1., 1., 1.]))"
      ]
     },
     "execution_count": 62,
     "metadata": {},
     "output_type": "execute_result"
    }
   ],
   "source": [
    "batch_norm.running_mean, batch_norm.running_var"
   ]
  },
  {
   "cell_type": "code",
   "execution_count": 63,
   "id": "6004fa47",
   "metadata": {},
   "outputs": [
    {
     "data": {
      "text/plain": [
       "(tensor([0.9947, 0.9207, 1.0915, 0.8020, 1.1773, 0.9677, 1.1214, 1.0183, 1.0333,\n",
       "         1.1140]),\n",
       " tensor([4.1837, 3.7821, 4.0503, 3.7393, 4.0392, 4.2995, 3.8906, 4.3000, 3.8719,\n",
       "         4.3875]))"
      ]
     },
     "execution_count": 63,
     "metadata": {},
     "output_type": "execute_result"
    }
   ],
   "source": [
    "y = batch_norm(x)\n",
    "y.mean(dim=0), y.var(dim=0)"
   ]
  },
  {
   "cell_type": "code",
   "execution_count": 64,
   "id": "32f79955",
   "metadata": {},
   "outputs": [
    {
     "data": {
      "text/plain": [
       "(tensor([0., 0., 0., 0., 0., 0., 0., 0., 0., 0.]),\n",
       " tensor([1., 1., 1., 1., 1., 1., 1., 1., 1., 1.]))"
      ]
     },
     "execution_count": 64,
     "metadata": {},
     "output_type": "execute_result"
    }
   ],
   "source": [
    "batch_norm.running_mean, batch_norm.running_var"
   ]
  },
  {
   "cell_type": "code",
   "execution_count": null,
   "id": "4443d069",
   "metadata": {},
   "outputs": [],
   "source": []
  }
 ],
 "metadata": {
  "kernelspec": {
   "display_name": "Python 3 (ipykernel)",
   "language": "python",
   "name": "python3"
  },
  "language_info": {
   "codemirror_mode": {
    "name": "ipython",
    "version": 3
   },
   "file_extension": ".py",
   "mimetype": "text/x-python",
   "name": "python",
   "nbconvert_exporter": "python",
   "pygments_lexer": "ipython3",
   "version": "3.8.13"
  }
 },
 "nbformat": 4,
 "nbformat_minor": 5
}
