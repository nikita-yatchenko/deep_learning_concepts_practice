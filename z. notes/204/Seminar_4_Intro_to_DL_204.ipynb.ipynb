{
 "cells": [
  {
   "cell_type": "code",
   "execution_count": 1,
   "id": "regular-sequence",
   "metadata": {},
   "outputs": [],
   "source": [
    "import pickle\n",
    "\n",
    "with open('elvish-names.pickle', \"rb\") as file:\n",
    "    names = pickle.load(file)"
   ]
  },
  {
   "cell_type": "code",
   "execution_count": 2,
   "id": "nuclear-hearts",
   "metadata": {},
   "outputs": [],
   "source": [
    "import torchtext\n",
    "\n",
    "assert torchtext.__version__ == '0.8.1'"
   ]
  },
  {
   "cell_type": "markdown",
   "id": "overall-luther",
   "metadata": {},
   "source": [
    "## Dataset\n",
    "\n",
    "**Processing pipeline:**\n",
    "\n",
    "chars (tokens) $\\to$ indices $\\to$ embeddings $\\to$ RNN output, hidden $\\to$ next char logits"
   ]
  },
  {
   "cell_type": "code",
   "execution_count": 3,
   "id": "velvet-desktop",
   "metadata": {},
   "outputs": [],
   "source": [
    "import torch\n",
    "import matplotlib.pyplot as plt\n",
    "from tqdm.notebook import tqdm\n",
    "from IPython.display import clear_output\n",
    "from torch.utils.data import Dataset, DataLoader\n",
    "from torchtext.vocab import Vocab\n",
    "from collections import Counter\n",
    "\n",
    "\n",
    "class NamesDataset(Dataset):\n",
    "    def __init__(self, names):\n",
    "        self.names = names\n",
    "        self.specials = ['<pad>', '<bos>', '<eos>']\n",
    "        counter = Counter(''.join(names))\n",
    "        self.vocab = Vocab(counter, specials=self.specials)\n",
    "        self.pad_index = self.vocab['<pad>']\n",
    "        self.bos_index = self.vocab['<bos>']\n",
    "        self.eos_index = self.vocab['<eos>']\n",
    "        self.max_len = max(len(name) for name in names) + 2\n",
    "\n",
    "    def __len__(self):\n",
    "        return len(self.names)\n",
    "\n",
    "    def str_to_idx(self, chars):\n",
    "        return [self.vocab[char] for char in chars]\n",
    "    \n",
    "    def idx_to_str(self, idx):\n",
    "        return [self.vocab.itos[index] for index in idx]\n",
    "    \n",
    "    def encode(self, chars):\n",
    "        chars = ['<bos>'] + list(chars) + ['<eos>']\n",
    "        return self.str_to_idx(chars)\n",
    "        \n",
    "    def decode(self, idx):\n",
    "        chars = self.idx_to_str(idx)\n",
    "        return ''.join(char for char in chars if char not in self.specials)\n",
    "\n",
    "    def __getitem__(self, item):\n",
    "        encoded = self.encode(self.names[item])\n",
    "        padded = torch.full((self.max_len, ), self.pad_index, dtype=torch.int64)\n",
    "        padded[:len(encoded)] = torch.tensor(encoded)\n",
    "        return padded, len(encoded)"
   ]
  },
  {
   "cell_type": "code",
   "execution_count": 4,
   "id": "realistic-muslim",
   "metadata": {},
   "outputs": [],
   "source": [
    "dataset = NamesDataset(names)\n",
    "dataloader = DataLoader(dataset, batch_size=32, shuffle=True)"
   ]
  },
  {
   "cell_type": "code",
   "execution_count": 5,
   "id": "cultural-substance",
   "metadata": {},
   "outputs": [
    {
     "data": {
      "text/plain": [
       "tensor([[ 1, 23, 13,  4, 15,  6,  4,  2,  0,  0,  0,  0,  0,  0,  0,  0],\n",
       "        [ 1, 24,  9,  3, 16, 14,  4,  8, 10,  9,  6,  2,  0,  0,  0,  0],\n",
       "        [ 1,  6, 15,  3,  7, 11, 13,  4,  2,  0,  0,  0,  0,  0,  0,  0],\n",
       "        [ 1, 13,  7, 11,  9,  3,  6,  5,  2,  0,  0,  0,  0,  0,  0,  0]])"
      ]
     },
     "execution_count": 5,
     "metadata": {},
     "output_type": "execute_result"
    }
   ],
   "source": [
    "for names, _ in dataloader:\n",
    "    break\n",
    "\n",
    "# 0 - <pad>\n",
    "# 1 - <bos>\n",
    "# 2 - <eos>\n",
    "names[:4]"
   ]
  },
  {
   "cell_type": "markdown",
   "id": "centered-religious",
   "metadata": {},
   "source": [
    "## Generator model\n",
    "\n",
    "Embedding + RNN + Linear head"
   ]
  },
  {
   "cell_type": "code",
   "execution_count": 6,
   "id": "unexpected-palestinian",
   "metadata": {},
   "outputs": [],
   "source": [
    "from torch import nn\n",
    "from torch.nn.utils.rnn import pack_padded_sequence, pad_packed_sequence\n",
    "from torch.distributions.categorical import Categorical\n",
    "\n",
    "class Generator(nn.Module):\n",
    "    def __init__(self, dataset, embed_dim=32, hidden_dim=32, max_len=None):\n",
    "        super().__init__()\n",
    "        self.embedding = nn.Embedding(num_embeddings=len(dataset.vocab), embedding_dim=embed_dim)\n",
    "        self.rnn = nn.RNN(input_size=embed_dim, hidden_size=hidden_dim, batch_first=True)\n",
    "        self.linear = nn.Linear(hidden_dim, len(dataset.vocab))\n",
    "        self.dataset = dataset\n",
    "        self.max_len = dataset.max_len if max_len is None else max_len\n",
    "    \n",
    "    def forward(self, tokens, lengths):\n",
    "        '''\n",
    "        B - batch size\n",
    "        L - sequence length\n",
    "        E - embedding dim\n",
    "        H - hidden dim\n",
    "        V - vocab size\n",
    "        '''\n",
    "        # tokens: (B, L)\n",
    "        embeds = self.embedding(tokens)\n",
    "        # embeds: (B, L, E) in padded form\n",
    "        packed_embeds = pack_padded_sequence(embeds, lengths, batch_first=True, enforce_sorted=False)\n",
    "        outputs, hidden = self.rnn(packed_embeds)\n",
    "        # output: (B, L, H), hidden: (B, H) in packed form\n",
    "        outputs, lengths = pad_packed_sequence(outputs, batch_first=True)\n",
    "        logits = self.linear(outputs)\n",
    "        # logits: (B, L, V)\n",
    "        return logits\n",
    "    \n",
    "    @torch.no_grad()\n",
    "    def inference(self, prefix=''):\n",
    "        # encode prefix\n",
    "        tokens = self.dataset.encode(prefix)[:-1]\n",
    "        tokens = torch.tensor(tokens).unsqueeze(0)\n",
    "        \n",
    "        # generate hidden for prefix\n",
    "        embeds = self.embedding(tokens)\n",
    "        output, hidden = self.rnn(embeds)\n",
    "        logits = self.linear(output)\n",
    "        # sample new token from logits\n",
    "        new_tokens = Categorical(logits=logits[:, -1:]).sample()\n",
    "        tokens = torch.cat([tokens, new_tokens], dim=1)\n",
    "        \n",
    "        # 2 stopping conditions: reaching max len or getting <eos> token\n",
    "        while tokens.shape[1] < self.max_len:\n",
    "            if new_tokens.item() == self.dataset.eos_index:\n",
    "                break\n",
    "\n",
    "            # process newly obtained token\n",
    "            embeds = self.embedding(new_tokens)\n",
    "            output, hidden = self.rnn(embeds, hidden)\n",
    "            logits = self.linear(output)\n",
    "            # sample the next token from logits\n",
    "            new_tokens = Categorical(logits=logits[:, -1:]).sample()\n",
    "            tokens = torch.cat([tokens, new_tokens], dim=1)\n",
    "        \n",
    "        # decode result to a string\n",
    "        return self.dataset.decode(tokens.squeeze())"
   ]
  },
  {
   "cell_type": "code",
   "execution_count": 7,
   "id": "super-retreat",
   "metadata": {},
   "outputs": [],
   "source": [
    "model = Generator(dataset, embed_dim=32, hidden_dim=32)\n",
    "optimizer = torch.optim.Adam(model.parameters(), lr=1e-3)\n",
    "criterion = nn.CrossEntropyLoss(ignore_index=dataset.pad_index)"
   ]
  },
  {
   "cell_type": "code",
   "execution_count": 8,
   "id": "moved-environment",
   "metadata": {},
   "outputs": [
    {
     "data": {
      "text/plain": [
       "['xaisfxpicedq',\n",
       " 'vshvcpsisjiqlz',\n",
       " 'cpgbcovoasgqsmi',\n",
       " '',\n",
       " 'ynxdihwsrkddvx',\n",
       " 'idbxpsmntwaclo',\n",
       " 'dzjo',\n",
       " 'ikfqafrsgi',\n",
       " 'ggzhkreufkaxxx',\n",
       " 'armhrqnsxdeyowp']"
      ]
     },
     "execution_count": 8,
     "metadata": {},
     "output_type": "execute_result"
    }
   ],
   "source": [
    "# inference for untrained model - trash\n",
    "[model.inference('') for _ in range(10)]"
   ]
  },
  {
   "cell_type": "markdown",
   "id": "addressed-weight",
   "metadata": {},
   "source": [
    "## Training"
   ]
  },
  {
   "cell_type": "code",
   "execution_count": 9,
   "id": "sapphire-reference",
   "metadata": {},
   "outputs": [],
   "source": [
    "def plot_losses(losses):\n",
    "    clear_output()\n",
    "    plt.plot(range(1, len(losses) + 1), losses)\n",
    "    plt.xlabel('epoch')\n",
    "    plt.ylabel('loss')\n",
    "    plt.grid()\n",
    "    plt.show()"
   ]
  },
  {
   "cell_type": "code",
   "execution_count": 10,
   "id": "deluxe-delta",
   "metadata": {},
   "outputs": [
    {
     "data": {
      "image/png": "[encoded data removed]",
      "text/plain": [
       "<Figure size 432x288 with 1 Axes>"
      ]
     },
     "metadata": {
      "needs_background": "light"
     },
     "output_type": "display_data"
    }
   ],
   "source": [
    "losses = []\n",
    "num_epochs = 200\n",
    "\n",
    "for epoch in range(1, num_epochs + 1):\n",
    "    running_loss = 0.0\n",
    "    model.train()\n",
    "    for tokens, lengths in dataloader:\n",
    "        optimizer.zero_grad()\n",
    "        tokens = tokens[:, :lengths.max()]\n",
    "        logits = model(tokens[:, :-1], lengths - 1)\n",
    "        # logits: (B, L, V), tokens: (B, L) - need to transpose logits\n",
    "        loss = criterion(logits.transpose(1, 2), tokens[:, 1:])\n",
    "        loss.backward()\n",
    "        optimizer.step()\n",
    "        \n",
    "        running_loss += loss.item() * tokens.shape[0]\n",
    "    \n",
    "    losses += [running_loss / len(dataset)]\n",
    "    \n",
    "    if epoch % 10 == 0:\n",
    "        plot_losses(losses)"
   ]
  },
  {
   "cell_type": "code",
   "execution_count": 11,
   "id": "opponent-infrared",
   "metadata": {},
   "outputs": [
    {
     "data": {
      "text/plain": [
       "['sanaryni',\n",
       " 'alarus',\n",
       " 'drindrael',\n",
       " 'auvelana',\n",
       " 'jhasuajhil',\n",
       " 'paerels',\n",
       " 'klaundorn',\n",
       " 'elasiiar',\n",
       " 'xanave',\n",
       " 'enlaunee']"
      ]
     },
     "execution_count": 11,
     "metadata": {},
     "output_type": "execute_result"
    }
   ],
   "source": [
    "# unconditional generation\n",
    "[model.inference('') for _ in range(10)]"
   ]
  },
  {
   "cell_type": "code",
   "execution_count": 12,
   "id": "restricted-salmon",
   "metadata": {},
   "outputs": [
    {
     "data": {
      "text/plain": [
       "['antaus',\n",
       " 'anamytar',\n",
       " 'angauthore',\n",
       " 'annallafar',\n",
       " 'anmauir',\n",
       " 'aniare',\n",
       " 'anaana',\n",
       " 'anmynmen',\n",
       " 'anathleun',\n",
       " 'anareth']"
      ]
     },
     "execution_count": 12,
     "metadata": {},
     "output_type": "execute_result"
    }
   ],
   "source": [
    "# conditional generation from prefix\n",
    "[model.inference('an') for _ in range(10)]"
   ]
  },
  {
   "cell_type": "code",
   "execution_count": null,
   "id": "nutritional-ministry",
   "metadata": {},
   "outputs": [],
   "source": []
  }
 ],
 "metadata": {
  "kernelspec": {
   "display_name": "Python 3",
   "language": "python",
   "name": "python3"
  },
  "language_info": {
   "codemirror_mode": {
    "name": "ipython",
    "version": 3
   },
   "file_extension": ".py",
   "mimetype": "text/x-python",
   "name": "python",
   "nbconvert_exporter": "python",
   "pygments_lexer": "ipython3",
   "version": "3.9.0"
  }
 },
 "nbformat": 4,
 "nbformat_minor": 5
}
